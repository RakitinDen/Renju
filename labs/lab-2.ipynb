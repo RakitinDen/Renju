{
 "cells": [
  {
   "cell_type": "markdown",
   "metadata": {},
   "source": [
    "# L2 - Multilayer perceptron\n",
    "\n",
    "### Papers\n",
    "1. [TensorFlow](https://static.googleusercontent.com/media/research.google.com/en//pubs/archive/45166.pdf)\n",
    "\n",
    "### TensorFlow\n",
    "1. [Installing TensorFlow](https://www.tensorflow.org/install/)\n",
    "2. [Basics of TensorFlow](https://www.tensorflow.org/get_started/get_started)\n",
    "3. [Mnist with TensorFlow](https://www.tensorflow.org/get_started/mnist/pros)\n",
    "4. [TensorFlow Mechanics](https://www.tensorflow.org/get_started/mnist/mechanics)\n",
    "5. [Visualization](https://www.tensorflow.org/get_started/graph_viz)\n",
    "\n",
    "\n",
    "### One more thing\n",
    "1. [Jupyter tutorial](https://habrahabr.ru/company/wunderfund/blog/316826/)\n",
    "2. [Plot.ly](https://plot.ly/python/)\n",
    "3. [Widgets](http://jupyter.org/widgets.html)"
   ]
  },
  {
   "cell_type": "markdown",
   "metadata": {},
   "source": [
    "### 1. Linear multi-classification problem\n",
    "\n",
    "We have already learned binary linear classifier\n",
    "$$y = \\text{sign}(w^Tx).$$\n",
    "There are [several approaches](https://en.wikipedia.org/wiki/Multiclass_classification) to solve the problem of multi-class classification. For example [reduction](https://en.wikipedia.org/wiki/Multiclass_classification#Transformation_to_Binary) of problem to binary classifier or [modification](https://en.wikipedia.org/wiki/Support_vector_machine#Multiclass_SVM) of the known model. However we are interested in approaches that is applied in neural networks.\n",
    "\n",
    "For each class $c \\in 1, \\dots, |C|$ we have an individual row $w_i$ of matrix $W$. Then the probability of $x$ belonging to a particular class is equal to\n",
    "$$p_i = \\frac{\\exp(w^T_ix)}{\\sum_j \\exp(w^T_jx)}.$$\n",
    "This is nothing, but [softmax](https://en.wikipedia.org/wiki/Softmax_function) function of $Wx$.\n",
    "$$(p_1, \\dots, p_{|C|}) = \\text{softmax}(Wx).$$\n",
    "\n",
    "If you look closely, $\\text{softmax}$ is a more general variant of sigmoid. To see this, it suffices to consider the case $|C|=2$. As usual the training can be reduced to minimization of the empirical risk, namely, optimization problem\n",
    "$$\\arg\\min_W Q(W) = \\arg\\min_W -\\frac{1}{\\mathcal{l}}\\sum_y\\sum_i [y = i] \\cdot \\ln(p_i(W)).$$\n",
    "Actually, the maximization of the log-likelihood is written above.\n",
    "\n",
    "#### Exercises\n",
    "1. Find $\\frac{dQ}{dW}$ in matrix form (hint: start with $\\frac{dQ}{dw_i}$ for begining).\n",
    "2. Please plot several mnist images (e.g using grid 5x5).\n",
    "3. Train linear multi-label classifier for [mnist](https://www.kaggle.com/c/digit-recognizer) dataset with TensorFlow (possible, [this tutorial](https://www.tensorflow.org/get_started/mnist/pros) can help you).\n",
    "4. Chek accuracy on train and validation sets.\n",
    "5. Use a local [TensorBoard instance](https://www.tensorflow.org/get_started/graph_viz) to visualize resulted graph (no need to include in lab)."
   ]
  },
  {
   "cell_type": "code",
   "execution_count": 1,
   "metadata": {},
   "outputs": [
    {
     "name": "stdout",
     "output_type": "stream",
     "text": [
      "Extracting MNIST_data/train-images-idx3-ubyte.gz\n",
      "Extracting MNIST_data/train-labels-idx1-ubyte.gz\n",
      "Extracting MNIST_data/t10k-images-idx3-ubyte.gz\n",
      "Extracting MNIST_data/t10k-labels-idx1-ubyte.gz\n"
     ]
    }
   ],
   "source": [
    "import numpy as np\n",
    "import tensorflow as tf\n",
    "from matplotlib import pyplot as plt\n",
    "from random import shuffle\n",
    "import skimage\n",
    "import random\n",
    "import math\n",
    "from tensorflow.examples.tutorials.mnist import input_data\n",
    "mnist = input_data.read_data_sets('MNIST_data', one_hot=True)\n",
    "%matplotlib inline"
   ]
  },
  {
   "cell_type": "code",
   "execution_count": 2,
   "metadata": {},
   "outputs": [],
   "source": [
    "file = open('train.csv', 'r')\n",
    "LEN_ELEM = 28 * 28\n",
    "NUMS_QUANTITY = 42000\n",
    "CLASS_NUM = 10\n",
    "\n",
    "\n",
    "def extract_features(file, strlen, num):\n",
    "    features_input = np.empty((num, strlen + 1), dtype=np.float64)\n",
    "    counter = 0\n",
    "    for elem in file:\n",
    "        elem.replace('\\n', '')\n",
    "        elem = elem.split(',')\n",
    "        if elem[0].isdigit():\n",
    "            cur = np.array(list(map(float, elem[1:])))\n",
    "            cur -= np.sum(cur) / len(cur)\n",
    "            cur /= np.max(cur)\n",
    "            features_input[counter] = np.append(cur, int(elem[0]))\n",
    "            counter += 1\n",
    "\n",
    "    return features_input\n",
    "\n",
    "\n",
    "\n",
    "def plot_num(feature, row_len, col_len):\n",
    "    img = feature.reshape((row_len, col_len))\n",
    "    plt.imshow(img, cmap='gray')\n",
    "    plt.show()\n",
    "\n",
    "\n",
    "    \n",
    "def plot_nums(images, row_len, col_len, rows, cols):\n",
    "    res = np.empty((row_len * rows, col_len * cols))\n",
    "    for i in range(rows):\n",
    "        for j in range(cols):\n",
    "            res[i * row_len: (i + 1) * row_len, j * col_len: (j + 1) * col_len] =\\\n",
    "                images[i, j].reshape(row_len, col_len)\n",
    "\n",
    "    plt.imshow(res, cmap='gray')\n",
    "    plt.show()"
   ]
  },
  {
   "cell_type": "code",
   "execution_count": 3,
   "metadata": {},
   "outputs": [],
   "source": [
    "features = extract_features(file, LEN_ELEM, NUMS_QUANTITY)"
   ]
  },
  {
   "cell_type": "code",
   "execution_count": 4,
   "metadata": {
    "scrolled": true
   },
   "outputs": [
    {
     "data": {
      "image/png": "[encoded data removed]",
      "text/plain": [
       "<matplotlib.figure.Figure at 0x7fb88843de10>"
      ]
     },
     "metadata": {},
     "output_type": "display_data"
    }
   ],
   "source": [
    "images = np.array([features[round(np.random.rand() * 42000),\n",
    "               :features.shape[1] - 1] for i in range(25)]).reshape((5, 5, 784))\n",
    "\n",
    "plot_nums(images, 28, 28, 5, 5)"
   ]
  },
  {
   "cell_type": "markdown",
   "metadata": {},
   "source": [
    "\n",
    "\n",
    "\n",
    "\n",
    "Начнем с того, что попробуем обучить модель на всей выборке, и протестируем на ней же."
   ]
  },
  {
   "cell_type": "code",
   "execution_count": 5,
   "metadata": {},
   "outputs": [],
   "source": [
    "def entropy(y, y_true):\n",
    "    return tf.reduce_mean(\n",
    "        tf.nn.softmax_cross_entropy_with_logits(labels=y_true, logits=y))\n",
    "\n",
    "\n",
    "def generate_batches(features, labels, batch_size):\n",
    "    for begin in range(0, len(features), batch_size):\n",
    "        end = min(begin + batch_size, len(features))\n",
    "        yield features[begin:end], labels[begin:end]\n",
    "\n",
    "\n",
    "def linear_classifier(function, features, labels, sess, lmbda, epoch_n, batch_size, reg='No'):\n",
    "    W = tf.Variable(tf.zeros([784, 10]))\n",
    "    b = tf.Variable(tf.zeros([10]))\n",
    "    x = tf.placeholder(tf.float32, shape=[None, 784])\n",
    "    y_true = tf.placeholder(tf.float32, shape=[None, 10])\n",
    "    sess.run(tf.global_variables_initializer())\n",
    "\n",
    "    y = tf.matmul(x,W) + b\n",
    "    if (reg == 'No'):\n",
    "        train_step = tf.train.GradientDescentOptimizer(lmbda).minimize(function(y, y_true))\n",
    "    else:\n",
    "        train_step = tf.train.GradientDescentOptimizer(lmbda).minimize(function(x, W, b, y_true))\n",
    "\n",
    "    for i in range(epoch_n):\n",
    "        for batch in generate_batches(features, labels, batch_size):\n",
    "            train_step.run(feed_dict={x: batch[0], y_true: batch[1]})\n",
    "\n",
    "    return W, y, x, y_true, b\n",
    "\n",
    "\n",
    "def visualize_weights(weights):\n",
    "    image = np.array(weights).reshape(28, 28)\n",
    "    plt.imshow(image, cmap=plt.cm.gray) \n",
    "    plt.show()"
   ]
  },
  {
   "cell_type": "code",
   "execution_count": 6,
   "metadata": {
    "scrolled": true
   },
   "outputs": [
    {
     "name": "stdout",
     "output_type": "stream",
     "text": [
      "Accuracy on train set: 0.93385714\n",
      "Accuracy on test set: 0.9131905\n"
     ]
    },
    {
     "data": {
      "image/png": "[encoded data removed]",
      "text/plain": [
       "<matplotlib.figure.Figure at 0x7fb885b14d68>"
      ]
     },
     "metadata": {},
     "output_type": "display_data"
    },
    {
     "data": {
      "image/png": "[encoded data removed]",
      "text/plain": [
       "<matplotlib.figure.Figure at 0x7fb885a5f6d8>"
      ]
     },
     "metadata": {},
     "output_type": "display_data"
    },
    {
     "data": {
      "image/png": "[encoded data removed]",
      "text/plain": [
       "<matplotlib.figure.Figure at 0x7fb885a17dd8>"
      ]
     },
     "metadata": {},
     "output_type": "display_data"
    },
    {
     "data": {
      "image/png": "[encoded data removed]",
      "text/plain": [
       "<matplotlib.figure.Figure at 0x7fb885a3b668>"
      ]
     },
     "metadata": {},
     "output_type": "display_data"
    },
    {
     "data": {
      "image/png": "[encoded data removed]",
      "text/plain": [
       "<matplotlib.figure.Figure at 0x7fb885a091d0>"
      ]
     },
     "metadata": {},
     "output_type": "display_data"
    },
    {
     "data": {
      "image/png": "[encoded data removed]",
      "text/plain": [
       "<matplotlib.figure.Figure at 0x7fb88599f358>"
      ]
     },
     "metadata": {},
     "output_type": "display_data"
    },
    {
     "data": {
      "image/png": "[encoded data removed]",
      "text/plain": [
       "<matplotlib.figure.Figure at 0x7fb885aabd68>"
      ]
     },
     "metadata": {},
     "output_type": "display_data"
    },
    {
     "data": {
      "image/png": "[encoded data removed]",
      "text/plain": [
       "<matplotlib.figure.Figure at 0x7fb8859a7470>"
      ]
     },
     "metadata": {},
     "output_type": "display_data"
    },
    {
     "data": {
      "image/png": "[encoded data removed]",
      "text/plain": [
       "<matplotlib.figure.Figure at 0x7fb885a008d0>"
      ]
     },
     "metadata": {},
     "output_type": "display_data"
    },
    {
     "data": {
      "image/png": "[encoded data removed]",
      "text/plain": [
       "<matplotlib.figure.Figure at 0x7fb885a90438>"
      ]
     },
     "metadata": {},
     "output_type": "display_data"
    }
   ],
   "source": [
    "def train_verify(loss_func, features, epoch_n, batch_size, train_size='100', reg='No'):\n",
    "    sess = tf.InteractiveSession()\n",
    "\n",
    "    if train_size == 100:\n",
    "        mnist_features = features[:, :features.shape[1] - 1]\n",
    "        mnist_classes = features[:, -1]\n",
    "        mnist_labels = np.array([np.arange(0, 10, 1) == mnist_classes[i]\n",
    "                                 for i in range(NUMS_QUANTITY)], dtype = np.float32)\n",
    "    \n",
    "        W, y, x, y_true, b = linear_classifier(loss_func,\n",
    "                    mnist_features, mnist_labels, sess, 0.5, epoch_n, batch_size, reg)\n",
    "\n",
    "        correct_prediction = tf.equal(tf.argmax(y, 1), tf.argmax(y_true, 1))\n",
    "        accuracy = tf.reduce_mean(tf.cast(correct_prediction, tf.float32))\n",
    "        acc = accuracy.eval(feed_dict={x: mnist_features, y_true: mnist_labels})\n",
    "        res = sess.run(W)\n",
    "        sess.close()\n",
    "        return acc, res\n",
    "\n",
    "    else:\n",
    "        pos = math.ceil(train_size * features.shape[0] / 100)\n",
    "        tr_features = features[:pos, :features.shape[1] - 1]\n",
    "        tr_classes = features[:pos, -1]\n",
    "        tr_labels = np.array([np.arange(0, 10, 1) == tr_classes[i]\n",
    "                    for i in range(tr_classes.shape[0])], dtype = np.float32)\n",
    "\n",
    "        test_features = features[pos:, :features.shape[1] - 1]\n",
    "        test_classes = features[pos:, -1]\n",
    "        test_labels = np.array([np.arange(0, 10, 1) == test_classes[i]\n",
    "                    for i in range(test_classes.shape[0])], dtype = np.float32)\n",
    "\n",
    "        W, y, x, y_true, b = linear_classifier(loss_func, tr_features, tr_labels,\n",
    "                                             sess, 0.5, epoch_n, batch_size, reg)\n",
    "\n",
    "        correct_prediction = tf.equal(tf.argmax(y,1), tf.argmax(y_true,1))\n",
    "        accuracy = tf.reduce_mean(tf.cast(correct_prediction, tf.float32))\n",
    "        acc_tr = accuracy.eval(feed_dict={x: tr_features, y_true: tr_labels})\n",
    "        acc_test = accuracy.eval(feed_dict={x: test_features, y_true: test_labels})\n",
    "        res = sess.run(W)\n",
    "        sess.close()\n",
    "    \n",
    "    return acc_tr, acc_test, res\n",
    "\n",
    "\n",
    "acctr, acctest, r = train_verify(entropy, features, 10, 100, 50)\n",
    "print(\"Accuracy on train set:\", acctr)\n",
    "print(\"Accuracy on test set:\", acctest)\n",
    "for i in range(10):\n",
    "    visualize_weights(r[:,i])\n"
   ]
  },
  {
   "cell_type": "markdown",
   "metadata": {},
   "source": [
    "Let's briefly touch on themes of regularization. As was discussed before, there are different approaches. We focus on the modification of loss function.\n",
    "\n",
    "$$\\arg\\min_W -\\frac{1}{\\mathcal{l}}\\sum_y\\sum_i [y = i] \\cdot \\ln(p_i(W)) + \\lambda_1 L_1(W) + \\lambda_2 L_2(W)$$\n",
    "\n",
    "1. $L_1(W) = sum_{i,j} |w_{i,j}|$ - sparsify weights (force to not use uncorrelated features)\n",
    "2. $L_2(W) = sum_{i,j} w_{i,j}^2$ - minimize weights (force to not overfit)\n",
    "\n",
    "#### Exercises\n",
    "1. Train model again using both type of regularization.\n",
    "2. Plot matrix of weights.\n",
    "3. Which pixels have zero weights? What does it mean?\n",
    "4. Have you improved accuracy on validation?"
   ]
  },
  {
   "cell_type": "code",
   "execution_count": 7,
   "metadata": {},
   "outputs": [
    {
     "name": "stdout",
     "output_type": "stream",
     "text": [
      "Accuracy on train set: 0.9152381\n",
      "Accuracy on test set: 0.9053968\n"
     ]
    },
    {
     "data": {
      "image/png": "[encoded data removed]",
      "text/plain": [
       "<matplotlib.figure.Figure at 0x7fb88635b6d8>"
      ]
     },
     "metadata": {},
     "output_type": "display_data"
    },
    {
     "data": {
      "image/png": "[encoded data removed]",
      "text/plain": [
       "<matplotlib.figure.Figure at 0x7fb885885dd8>"
      ]
     },
     "metadata": {},
     "output_type": "display_data"
    },
    {
     "data": {
      "image/png": "[encoded data removed]",
      "text/plain": [
       "<matplotlib.figure.Figure at 0x7fb8857d78d0>"
      ]
     },
     "metadata": {},
     "output_type": "display_data"
    },
    {
     "data": {
      "image/png": "[encoded data removed]",
      "text/plain": [
       "<matplotlib.figure.Figure at 0x7fb8857fc3c8>"
      ]
     },
     "metadata": {},
     "output_type": "display_data"
    },
    {
     "data": {
      "image/png": "[encoded data removed]",
      "text/plain": [
       "<matplotlib.figure.Figure at 0x7fb8857c6be0>"
      ]
     },
     "metadata": {},
     "output_type": "display_data"
    },
    {
     "data": {
      "image/png": "[encoded data removed]",
      "text/plain": [
       "<matplotlib.figure.Figure at 0x7fb8842cc6a0>"
      ]
     },
     "metadata": {},
     "output_type": "display_data"
    },
    {
     "data": {
      "image/png": "[encoded data removed]",
      "text/plain": [
       "<matplotlib.figure.Figure at 0x7fb8842dfe48>"
      ]
     },
     "metadata": {},
     "output_type": "display_data"
    },
    {
     "data": {
      "image/png": "[encoded data removed]",
      "text/plain": [
       "<matplotlib.figure.Figure at 0x7fb8857e6470>"
      ]
     },
     "metadata": {},
     "output_type": "display_data"
    },
    {
     "data": {
      "image/png": "[encoded data removed]",
      "text/plain": [
       "<matplotlib.figure.Figure at 0x7fb885a3d978>"
      ]
     },
     "metadata": {},
     "output_type": "display_data"
    },
    {
     "data": {
      "image/png": "[encoded data removed]",
      "text/plain": [
       "<matplotlib.figure.Figure at 0x7fb8863eceb8>"
      ]
     },
     "metadata": {},
     "output_type": "display_data"
    }
   ],
   "source": [
    "def reg_entropy(lambda1, lambda2):\n",
    "    def reg1(W):\n",
    "        return tf.reduce_sum(abs(W))\n",
    "\n",
    "    def reg2(W):\n",
    "        return tf.reduce_sum(W ** 2)\n",
    "    \n",
    "    def entropy(x, W, b, y_):\n",
    "        y = tf.matmul(x,W) + b\n",
    "        res = tf.reduce_mean(\n",
    "            tf.nn.softmax_cross_entropy_with_logits(labels=y_, logits=y))\n",
    "        return res + lambda1 * reg1(W) + lambda2 * reg2(W)\n",
    "\n",
    "    return entropy\n",
    "\n",
    "\n",
    "func = reg_entropy(0.0002, 0.0001)\n",
    "acctr, acctest, r = train_verify(func, features, 20, 70, 70, reg='Yes')\n",
    "print(\"Accuracy on train set:\", acctr)\n",
    "print(\"Accuracy on test set:\", acctest)\n",
    "for i in range(10):\n",
    "    visualize_weights(r[:,i])\n"
   ]
  },
  {
   "cell_type": "markdown",
   "metadata": {},
   "source": [
    "### 2. Universal approximation theorem\n",
    "\n",
    "What if we add more layers to our model? Namely, we train two matrix $W_2$ and $W_1$\n",
    "$$softmax(W_2\\cdot(W_1x)).$$\n",
    "\n",
    "At first glance adding more parameters helps to increase the generalizing ability of the model. Buy actually we have the same model $softmax(Wx)$, where $W = W_2\\cdot W_1$. But everyting changes with adding ome more layer. Let's add nonlinear function $\\sigma$ between $W_2$ and $W_1$\n",
    "\n",
    "$$softmax(W_2\\cdot \\sigma(W_1x)).$$\n",
    "\n",
    "Kurt Hornik showed in 1991 that it is not the specific choice of the nonlinear function, but rather the multilayer feedforward architecture itself which gives neural networks the potential of being universal approximators. The output units are always assumed to be linear. For notational convenience, only the single output case will be shown. The general case can easily be deduced from the single output case.\n",
    "\n",
    "Let $\\sigma(\\cdot)$ be a nonconstant, bounded, and monotonically-increasing continuous function.\n",
    "Let $\\mathcal{S}_m \\subset \\mathbb{R}^m$ denote any compact set. \n",
    "Then, given any $\\varepsilon > 0$ and any coninuous function $f$ on $\\mathcal{S}_m$, there exist an integer $N$ and real constants $v_i$, $b_i$ amd real vectors $w_i$ that\n",
    "\n",
    "$$\\left| \\sum _{i=1}^{N}v_{i}\\sigma \\left( w_i^{T} x+b_i \\right) - f(x) \\right| < \\varepsilon, ~~~ \\forall x \\in \\mathcal{S}_m.$$\n",
    "\n",
    "The theorem has non-constructive proof, it meams that no estimates for $N$ and no method to find approximation's parameters.\n",
    "\n",
    "#### Exercises\n",
    "1. Let $\\sigma$ – [heaviside step function](https://en.wikipedia.org/wiki/Heaviside_step_function) and $x \\in \\{0, 1\\}^2$. Prove that $y = \\sigma(wx + b)$ can approximate boolean function **OR** (hint: use constructive proof).\n",
    "2. What about **AND** function?\n",
    "3. Is it possible to implement **XOR**? Prove your words.\n",
    "4. Prove that 2-layer network can implement any boolean function.\n",
    "\n",
    "#### More useful facts:\n",
    "1. A 2-layer network in in $\\mathbb{R}^n$ allows to define convex polyhedron..\n",
    "2. A 3-layer network in в $\\mathbb{R}^n$ allows to define a not necessarily convex and not even necessarily connected area."
   ]
  },
  {
   "cell_type": "markdown",
   "metadata": {},
   "source": [
    "### 3. Backpropagation\n",
    "Backpropagation is a method used to calculate the error contribution of each layer after a batch of data. It is a special case of an older and more general technique called automatic differentiation. In the context of learning, backpropagation is commonly used by the gradient descent optimization algorithm to adjust the weight of layers by calculating the gradient of the loss function. This technique is also sometimes called backward propagation of errors, because the error is calculated at the output and distributed back through the network layers. The main motivation of method is simplify evaluation of gradient which is complex problem for multilayer nets.\n",
    "\n",
    "We need the following notation. Let $(y^1,\\dots,y^n) = f(x^1,\\dots,x^n)$ is some differentiable function and $\\frac{dy}{dx}$ is matrix\n",
    "$$\\frac{dy}{dx} = \\Big[ J_{ij} = \\frac{\\partial y^i}{\\partial x^j} \\Big]$$\n",
    "\n",
    "Without violating the generality, we can assume that each layer is a function $x_{i} = f(x_{i-1}, w_i)$. As last layer we add loss function, so we can assume our multi-layer net as function $Q(x_0) = Q(f_n(f_{n-1}(\\dots, w_{n-1}), w_n))$.\n",
    "\n",
    "#### Forward step\n",
    "Propagation forward through the network to generate the output values. Calculation of the loss function.\n",
    "\n",
    "#### Backward step\n",
    "Let's look at last layer. We can simply find $\\frac{dQ}{dx_n}$. Now we can evaluate \n",
    "\n",
    "$$\\frac{dQ}{dw_n} = \\frac{dQ}{dx_n}\\frac{dx_n}{dw_n} \\text{ and } \\frac{dQ}{dx_{n-1}} = \\frac{dQ}{dx_n}\\frac{dx_n}{dx_{n-1}}$$\n",
    "\n",
    "Now we need calculate $\\frac{dQ}{dw_{n-2}}$ и $\\frac{dQ}{dx_{n-2}}$. But we have the same situation. We know $\\frac{dQ}{dx_k}$, so can evaluate $\\frac{dQ}{dw_k}$ and $\\frac{dQ}{dx_{k-1}}$. Repeating this operation we find all the gradients. Now it's only remains to make a gradient step to update weights.\n",
    "\n",
    "#### Exercises\n",
    "1. Read more about [vanishing gradient](https://en.wikipedia.org/wiki/Vanishing_gradient_problem).\n",
    "2. Train 2 layer net. Use sigmoid as nonlinearity.\n",
    "3. Check accuracy on validation set.\n",
    "4. Use [ReLu](https://en.wikipedia.org/wiki/Rectifier_(neural_networks) or LeakyReLu as nonlinearity. Compare accuracy and convergence with previous model.\n",
    "5. Play with different architectures (add more layers, regularization and etc).\n",
    "6. Show your best model.\n",
    "7. How does quality change with adding layers. Prove your words, train model for 2, 3, 5, 7 and 10 layers.\n",
    "8. Using backpropagation find optimal  digit 8 for your net.*"
   ]
  },
  {
   "cell_type": "code",
   "execution_count": 8,
   "metadata": {},
   "outputs": [],
   "source": [
    "def sigmoid(x):\n",
    "    return 1 / (1 + tf.exp(-x))\n",
    "\n",
    "\n",
    "def entropy(y, y_true):\n",
    "    return tf.reduce_mean(\n",
    "        tf.nn.softmax_cross_entropy_with_logits(labels=y_true, logits=y))\n",
    "\n",
    "\n",
    "def layer(y, W, b, num, non_linearity):\n",
    "    return non_linearity(tf.matmul(y, W[num]) + b[num])\n",
    "\n",
    "\n",
    "def multilayer_classification(loss_func, layer_shapes, non_linearity,\n",
    "            features, labels, sess, epoch_n, batch_size, mode='UnReg', data='No'):\n",
    "\n",
    "    layer_n = layer_shapes.shape[0] - 1\n",
    "    W = [tf.Variable(tf.truncated_normal([layer_shapes[i], layer_shapes[i + 1]], stddev=0.1))\n",
    "         for i in range(layer_n)]\n",
    "\n",
    "    b = [tf.Variable(tf.zeros(layer_shapes[i + 1])) for i in range(layer_n)]\n",
    "    x = tf.placeholder(tf.float32, shape=[None, 784])\n",
    "    y_true = tf.placeholder(tf.float32, shape=[None, 10])\n",
    "    sess.run(tf.global_variables_initializer())\n",
    "    losses = []\n",
    "\n",
    "\n",
    "    y = x\n",
    "    for i in range(layer_n - 1):\n",
    "        y = layer(y, W, b, i, non_linearity)\n",
    "\n",
    "    y = tf.matmul(y, W[-1]) + b[-1]\n",
    "    if (mode == 'Reg'):\n",
    "        train_step = tf.train.GradientDescentOptimizer(0.5).minimize(loss_func(x, W, b, y_true))\n",
    "    else:\n",
    "        train_step = tf.train.GradientDescentOptimizer(0.5).minimize(loss_func(y, y_true))\n",
    "\n",
    "    for i in range(epoch_n):\n",
    "        losses.append(sess.run(loss_func(sess.run(y, {x:features}), tf.convert_to_tensor(labels))))\n",
    "        for batch in generate_batches(features, labels, batch_size):\n",
    "            train_step.run(feed_dict={x: batch[0], y_true: batch[1]})\n",
    "\n",
    "\n",
    "    if data == 'Conv':\n",
    "        return W, y, x, y_true, b, losses\n",
    "\n",
    "    return W, y, x, y_true, b\n"
   ]
  },
  {
   "cell_type": "code",
   "execution_count": 9,
   "metadata": {},
   "outputs": [],
   "source": [
    "def multilayer_verify(features, loss_func, layer_shapes,\n",
    "            non_linearity, train_size, epoch_n, batch_size, mode='UnReg', data='No'):\n",
    "\n",
    "    sess = tf.InteractiveSession()\n",
    "\n",
    "    f_copy = np.array(features)\n",
    "    np.random.shuffle(f_copy)\n",
    "    tr_features = f_copy[:train_size, :features.shape[1] - 1]\n",
    "    tr_classes = f_copy[:train_size, -1]\n",
    "    tr_labels = np.array([np.arange(0, 10, 1) == tr_classes[i]\n",
    "                for i in range(tr_classes.shape[0])], dtype = np.float32)\n",
    "\n",
    "    test_features = f_copy[train_size:, :features.shape[1] - 1]\n",
    "    test_classes = f_copy[train_size:, -1]\n",
    "    test_labels = np.array([np.arange(0, 10, 1) == test_classes[i]\n",
    "                for i in range(test_classes.shape[0])], dtype = np.float32)\n",
    "\n",
    "    if data == 'Conv':\n",
    "        W, y, x, y_, b, losses = multilayer_classification(loss_func, layer_shapes, non_linearity,\n",
    "                tr_features, tr_labels, sess, epoch_n, batch_size, mode, 'Conv')\n",
    "\n",
    "        correct_prediction = tf.equal(tf.argmax(y,1), tf.argmax(y_,1))\n",
    "        accuracy = tf.reduce_mean(tf.cast(correct_prediction, tf.float32))\n",
    "        acc_tr = accuracy.eval(feed_dict={x: tr_features, y_: tr_labels})\n",
    "        acc_test = accuracy.eval(feed_dict={x: test_features, y_: test_labels})\n",
    "        sess.close()\n",
    "        return acc_tr, acc_test, losses\n",
    "\n",
    "    W, y, x, y_, b = multilayer_classification(loss_func, layer_shapes, non_linearity,\n",
    "                    tr_features, tr_labels, sess, epoch_n, batch_size, mode)\n",
    "\n",
    "    correct_prediction = tf.equal(tf.argmax(y,1), tf.argmax(y_,1))\n",
    "    accuracy = tf.reduce_mean(tf.cast(correct_prediction, tf.float32))\n",
    "    acc_tr = accuracy.eval(feed_dict={x: tr_features, y_: tr_labels})\n",
    "    acc_test = accuracy.eval(feed_dict={x: test_features, y_: test_labels})\n",
    "    sess.close()\n",
    "\n",
    "    return acc_tr, acc_test\n"
   ]
  },
  {
   "cell_type": "code",
   "execution_count": 10,
   "metadata": {},
   "outputs": [
    {
     "name": "stdout",
     "output_type": "stream",
     "text": [
      "Accuracy on train set with Sigmoid: 0.9932993\n",
      "Accuracy on test set with Sigmoid: 0.9713492\n"
     ]
    }
   ],
   "source": [
    "shapes = np.array([784, 200, 10])\n",
    "sess = tf.InteractiveSession()\n",
    "epoch_n = 20\n",
    "batch_size = 70\n",
    "train_size = round(features.shape[0] * 0.7)\n",
    "\n",
    "s2_train, s2_test, s2_losses = multilayer_verify(features, entropy, shapes, tf.nn.sigmoid,\n",
    "                train_size, epoch_n, batch_size, data='Conv')\n",
    "print(\"Accuracy on train set with Sigmoid:\", s2_train)\n",
    "print(\"Accuracy on test set with Sigmoid:\", s2_test)"
   ]
  },
  {
   "cell_type": "markdown",
   "metadata": {},
   "source": [
    "Посмотрим, что изменится с ReLu"
   ]
  },
  {
   "cell_type": "code",
   "execution_count": 11,
   "metadata": {},
   "outputs": [
    {
     "name": "stdout",
     "output_type": "stream",
     "text": [
      "Accuracy on train set with ReLu: 1.0\n",
      "Accuracy on test set with ReLu: 0.97301584\n"
     ]
    }
   ],
   "source": [
    "r2_train, r2_test, r2_losses = multilayer_verify(features, entropy, shapes, tf.nn.relu,\n",
    "                        train_size, epoch_n, batch_size, data='Conv')\n",
    "print(\"Accuracy on train set with ReLu:\", r2_train)\n",
    "print(\"Accuracy on test set with ReLu:\", r2_test)"
   ]
  },
  {
   "cell_type": "code",
   "execution_count": 12,
   "metadata": {},
   "outputs": [
    {
     "data": {
      "image/png": "[encoded data removed]",
      "text/plain": [
       "<matplotlib.figure.Figure at 0x7fb7fffeb748>"
      ]
     },
     "metadata": {},
     "output_type": "display_data"
    }
   ],
   "source": [
    "segment = np.arange(0, len(s2_losses), 1)\n",
    "plt.plot(segment, s2_losses, label='Convergeance with Sigmoid', color='green')\n",
    "plt.plot(segment, r2_losses, label='Convergeance with ReLu', color='orange')\n",
    "plt.legend(bbox_to_anchor=(0., 1.02, 1., .102), loc=3,\n",
    "           ncol=2, mode=\"expand\", borderaxespad=0.)\n",
    "plt.show()"
   ]
  },
  {
   "cell_type": "code",
   "execution_count": 13,
   "metadata": {},
   "outputs": [
    {
     "name": "stdout",
     "output_type": "stream",
     "text": [
      "Accuracy on train set with Sigmoid on 3 layers: 1.0\n",
      "Accuracy on test set with Sigmoid on 3 layers: 0.9770635\n"
     ]
    }
   ],
   "source": [
    "shapes3 = np.array([784, 500, 400, 10])\n",
    "train3, test3  = multilayer_verify(features, entropy, shapes3, tf.nn.relu,\n",
    "                        train_size, epoch_n, batch_size)\n",
    "print(\"Accuracy on train set with Sigmoid on 3 layers:\", train3)\n",
    "print(\"Accuracy on test set with Sigmoid on 3 layers:\", test3)"
   ]
  },
  {
   "cell_type": "code",
   "execution_count": 14,
   "metadata": {},
   "outputs": [
    {
     "name": "stdout",
     "output_type": "stream",
     "text": [
      "Accuracy on train set with Sigmoid on 5 layers: 0.09768707\n",
      "Accuracy on test set with Sigmoid on 5 layers: 0.1\n"
     ]
    }
   ],
   "source": [
    "shapes5 = np.array([784, 500, 400, 300, 200, 10])\n",
    "train5, test5  = multilayer_verify(features, entropy, shapes5, tf.nn.relu,\n",
    "                        train_size, epoch_n, batch_size)\n",
    "print(\"Accuracy on train set with Sigmoid on 5 layers:\", train5)\n",
    "print(\"Accuracy on test set with Sigmoid on 5 layers:\", test5)"
   ]
  },
  {
   "cell_type": "code",
   "execution_count": 15,
   "metadata": {},
   "outputs": [
    {
     "name": "stdout",
     "output_type": "stream",
     "text": [
      "Accuracy on train set with Sigmoid on 7 layers: 0.99663264\n",
      "Accuracy on test set with Sigmoid on 7 layers: 0.97325397\n"
     ]
    }
   ],
   "source": [
    "shapes7 = np.array([784, 500, 400, 250, 200, 150, 100, 10])\n",
    "train7, test7  = multilayer_verify(features, entropy, shapes7, tf.nn.relu,\n",
    "                        train_size, epoch_n, batch_size)\n",
    "print(\"Accuracy on train set with Sigmoid on 7 layers:\", train7)\n",
    "print(\"Accuracy on test set with Sigmoid on 7 layers:\", test7)"
   ]
  },
  {
   "cell_type": "code",
   "execution_count": 16,
   "metadata": {
    "scrolled": false
   },
   "outputs": [
    {
     "name": "stdout",
     "output_type": "stream",
     "text": [
      "Accuracy on train set with Sigmoid on 10 layers: 0.099013604\n",
      "Accuracy on test set with Sigmoid on 10 layers: 0.09690476\n"
     ]
    }
   ],
   "source": [
    "shapes10 = np.array([784, 500, 400, 350, 300, 350, 200, 150, 100, 50, 10])\n",
    "train10, test10  = multilayer_verify(features, entropy, shapes10, tf.nn.relu,\n",
    "                        train_size, epoch_n, batch_size)\n",
    "print(\"Accuracy on train set with Sigmoid on 10 layers:\", train10)\n",
    "print(\"Accuracy on test set with Sigmoid on 10 layers:\", test10)"
   ]
  },
  {
   "cell_type": "code",
   "execution_count": 17,
   "metadata": {},
   "outputs": [],
   "source": [
    "def entropy(y, y_true):\n",
    "    return tf.reduce_mean(\n",
    "        tf.nn.softmax_cross_entropy_with_logits(labels=y_true, logits=y))\n",
    "\n",
    "\n",
    "def num_loss(y, y_true):\n",
    "    return (tf.reduce_sum(tf.abs(y - y_true)))\n",
    "\n",
    "\n",
    "def optimal_num(loss_func, label, layers_w, layers_b, sess, step_n):\n",
    "    x = tf.Variable(tf.truncated_normal([1, 784], stddev=0.1, dtype=tf.float64))\n",
    "    sess.run(tf.global_variables_initializer())\n",
    "\n",
    "    W = tf.placeholder(tf.float64, shape=[None, layers_w.shape[1]])\n",
    "    b = tf.placeholder(tf.float64, shape=[layers_b.shape[0]])\n",
    "    y_true = tf.placeholder(tf.float64, shape=[10])\n",
    "\n",
    "    y = tf.matmul(x, W) + b\n",
    "\n",
    "    train_step = tf.train.GradientDescentOptimizer(0.5).minimize(loss_func(y, y_true), var_list=[x])\n",
    "    sess.run(tf.global_variables_initializer())\n",
    "\n",
    "    for i in range(step_n):\n",
    "        train_step.run(feed_dict={W: layers_w, b: layers_b, y_true: label})\n",
    "\n",
    "    return x"
   ]
  },
  {
   "cell_type": "markdown",
   "metadata": {},
   "source": [
    "Ищем восьмерку."
   ]
  },
  {
   "cell_type": "code",
   "execution_count": 18,
   "metadata": {},
   "outputs": [],
   "source": [
    "def plot_optimal(loss_func, features, num_class, sess):\n",
    "    mnist_features = features[:, :features.shape[1] - 1]\n",
    "    mnist_classes = features[:, -1]\n",
    "    mnist_labels = np.array([np.arange(0, 10, 1) == mnist_classes[i]\n",
    "                    for i in range(NUMS_QUANTITY)], dtype = np.float64)\n",
    "\n",
    "    W, y, x, y_, b = linear_classifier(loss_func, mnist_features, mnist_labels, sess, 0.5, 10, 70)\n",
    "    num = sess.run(W)\n",
    "    label = np.zeros(10)\n",
    "    label[num_class] = 1\n",
    "    optx = optimal_num(num_loss, label, sess.run(W), sess.run(b), sess, 3000)\n",
    "    opt8 = sess.run(optx)\n",
    "    opt8 = opt8.reshape(optx.shape[1])\n",
    "    visualize_weights(opt8)\n",
    "    visualize_weights(num[:, 8])"
   ]
  },
  {
   "cell_type": "code",
   "execution_count": 19,
   "metadata": {
    "scrolled": true
   },
   "outputs": [
    {
     "data": {
      "image/png": "[encoded data removed]",
      "text/plain": [
       "<matplotlib.figure.Figure at 0x7fb7d2c4ec88>"
      ]
     },
     "metadata": {},
     "output_type": "display_data"
    },
    {
     "data": {
      "image/png": "[encoded data removed]",
      "text/plain": [
       "<matplotlib.figure.Figure at 0x7fb7d29eb5c0>"
      ]
     },
     "metadata": {},
     "output_type": "display_data"
    }
   ],
   "source": [
    "plot_optimal(entropy, features, 8, sess)"
   ]
  },
  {
   "cell_type": "markdown",
   "metadata": {},
   "source": [
    "### 4. Autoencoders\n",
    "An autoencoder is an network used for unsupervised learning of efficient codings. The aim of an autoencoder is to learn a representation (encoding) for a set of data, typically for the purpose of dimensionality reduction. Also, this technique can be used to train deep nets.\n",
    "\n",
    "Architecturally, the simplest form of an autoencoder is a feedforward net very similar to the multilayer perceptron (MLP), but with the output layer having the same number of nodes as the input layer, and with the purpose of reconstructing its own inputs. Therefore, autoencoders are unsupervised learning models. An autoencoder always consists of two parts, the encoder and the decoder. Encoder returns latent representation of the object (compressed representation, usuallu smaller dimension), but decoder restores object from this latent representation. Autoencoders are also trained to minimise reconstruction errors (e.g. MSE).\n",
    "\n",
    "Various techniques exist to prevent autoencoders from learning the identity and to improve their ability to capture important information:\n",
    "1. Denoising autoencoder - take a partially corrupted input.\n",
    "2. Sparse autoencoder - impose sparsity on the hidden units during training (whilst having a larger number of hidden units than inputs).\n",
    "3. Variational autoencoder models inherit autoencoder architecture, but make strong assumptions concerning the distribution of latent variables.\n",
    "4. Contractive autoencoder - add an explicit regularizer in objective function that forces the model to learn a function that is robust to slight variations of input values.\n",
    "\n",
    "#### Exercises\n",
    "1. Train 2 layers autoencoder that compressed mnist images to $\\mathbb{R}^3$ space.\n",
    "2. For each digit plot several samples in 3D axis (use \"%matplotlib notebook\" mode or plotly). How do digits group?\n",
    "3. Train autoencoder with more layers. What are results?\n",
    "4. Use autoencoder to pretrain 2 layers (unsupervised) and then train the following layers with supervised method."
   ]
  },
  {
   "cell_type": "code",
   "execution_count": 20,
   "metadata": {},
   "outputs": [],
   "source": [
    "def autoencoder(loss_func, layer_shapes, non_linearity,\n",
    "                features, labels, sess, epoch_n, batch_size):\n",
    "\n",
    "    layer_n = len(layer_shapes) - 1\n",
    "    W = [tf.Variable(tf.truncated_normal([layer_shapes[i], layer_shapes[i + 1]], stddev=0.1))\n",
    "         for i in range(layer_n)]\n",
    "\n",
    "    b = [tf.Variable(tf.zeros(layer_shapes[i + 1])) for i in range(layer_n)]\n",
    "    x = tf.placeholder(tf.float32, shape=[None, 784])\n",
    "    y = x\n",
    "    for i in range(layer_n - 1):\n",
    "        y = layer(y, W, b, i, non_linearity)\n",
    "\n",
    "    y = tf.matmul(y, W[-1]) + b[-1]\n",
    "    \n",
    "    train_step = tf.train.AdamOptimizer(0.001).minimize(loss_func(y, x))\n",
    "    sess.run(tf.global_variables_initializer())\n",
    "\n",
    "    for i in range(epoch_n):\n",
    "        for batch in generate_batches(features, labels, batch_size):\n",
    "            train_step.run(feed_dict={x: batch[0]})\n",
    "\n",
    "    encoder = x\n",
    "    for i in range(layer_n // 2):\n",
    "        encoder = layer(encoder, W, b, i, non_linearity)\n",
    "        print(encoder)\n",
    "            \n",
    "    return y, x, encoder"
   ]
  },
  {
   "cell_type": "code",
   "execution_count": 21,
   "metadata": {},
   "outputs": [],
   "source": [
    "def autoencoder_loss(y, x):\n",
    "    return (tf.reduce_sum(tf.square(y - x)))\n",
    "\n",
    "\n",
    "def decode_num(loss_func, features, label_shapes, train_size, sess, epoch_n, batch_size, num_index):\n",
    "    tr_features = features[:train_size, :features.shape[1] - 1]\n",
    "    tr_classes = features[:train_size, -1]\n",
    "    tr_labels = np.array([np.arange(0, 10, 1) == tr_classes[i]\n",
    "                for i in range(tr_classes.shape[0])], dtype = np.float32)\n",
    "    sess.run(tf.global_variables_initializer())\n",
    "    y1, x1, encoder = autoencoder(loss_func, label_shapes, tf.nn.relu,\n",
    "            tr_features, tr_labels, sess, epoch_n, batch_size)\n",
    "\n",
    "    num = sess.run(y1, {x1 : tr_features[num_index].reshape(1, 784)})\n",
    "    visualize_weights(tr_features[num_index].reshape(1, 784))\n",
    "    visualize_weights(num)\n"
   ]
  },
  {
   "cell_type": "code",
   "execution_count": 22,
   "metadata": {},
   "outputs": [
    {
     "name": "stdout",
     "output_type": "stream",
     "text": [
      "Tensor(\"Relu_25:0\", shape=(?, 100), dtype=float32)\n",
      "Tensor(\"Relu_26:0\", shape=(?, 3), dtype=float32)\n"
     ]
    },
    {
     "data": {
      "image/png": "[encoded data removed]",
      "text/plain": [
       "<matplotlib.figure.Figure at 0x7fb7d2a217f0>"
      ]
     },
     "metadata": {},
     "output_type": "display_data"
    },
    {
     "data": {
      "image/png": "[encoded data removed]",
      "text/plain": [
       "<matplotlib.figure.Figure at 0x7fb7b7d80e10>"
      ]
     },
     "metadata": {},
     "output_type": "display_data"
    }
   ],
   "source": [
    "sess = tf.InteractiveSession()\n",
    "epoch_n = 10\n",
    "batch_size = 100\n",
    "train_size = round(features.shape[0] * 0.7)\n",
    "label_shapes = [784, 100, 3, 100, 784]\n",
    "\n",
    "decode_num(autoencoder_loss, features, label_shapes, train_size, sess, epoch_n, batch_size, 500)"
   ]
  },
  {
   "cell_type": "code",
   "execution_count": 23,
   "metadata": {},
   "outputs": [
    {
     "name": "stdout",
     "output_type": "stream",
     "text": [
      "Tensor(\"Relu_32:0\", shape=(?, 100), dtype=float32)\n",
      "Tensor(\"Relu_33:0\", shape=(?, 50), dtype=float32)\n",
      "Tensor(\"Relu_34:0\", shape=(?, 3), dtype=float32)\n"
     ]
    },
    {
     "data": {
      "image/png": "[encoded data removed]",
      "text/plain": [
       "<matplotlib.figure.Figure at 0x7fb79fd365f8>"
      ]
     },
     "metadata": {},
     "output_type": "display_data"
    },
    {
     "data": {
      "image/png": "[encoded data removed]",
      "text/plain": [
       "<matplotlib.figure.Figure at 0x7fb79a49ac88>"
      ]
     },
     "metadata": {},
     "output_type": "display_data"
    }
   ],
   "source": [
    "epoch_n = 10\n",
    "batch_size = 100\n",
    "train_size = round(features.shape[0] * 0.7)\n",
    "label_shapes = [784, 100, 50, 3, 50, 100, 784]\n",
    "\n",
    "decode_num(autoencoder_loss, features, label_shapes, train_size, sess, epoch_n, batch_size, 500)"
   ]
  },
  {
   "cell_type": "markdown",
   "metadata": {},
   "source": [
    "Несложно заметить, что с добавлением слоев качество обучения автоенкодера улучшается."
   ]
  },
  {
   "cell_type": "code",
   "execution_count": 24,
   "metadata": {},
   "outputs": [],
   "source": [
    "def generate_plots(features, num):\n",
    "    mnist_features = features[:, :features.shape[1] - 1]\n",
    "    mnist_classes = features[:, -1]\n",
    "    num_pics = np.empty((10, num, 784))\n",
    "    np.random.shuffle(features)\n",
    "    counters = np.zeros(10, dtype=np.int32)\n",
    "    i = 0\n",
    "    while ((counters != num * np.ones(10)).any()):\n",
    "        cur_class = int(features[i, -1])\n",
    "        cur_feature = features[i, :-1]\n",
    "        if (counters[cur_class] != num):  \n",
    "            num_pics[cur_class, counters[cur_class]] = cur_feature\n",
    "            counters[cur_class] += 1\n",
    "        i += 1\n",
    "\n",
    "    return num_pics\n",
    "\n",
    "\n",
    "def encode_plots(num_plots, encoder, sess):\n",
    "    threed_pics = np.empty((num_plots.shape[0], num_plots.shape[1], 3))\n",
    "    print(threed_pics.shape)\n",
    "    for i in range(num_plots.shape[0]):\n",
    "        for j in range(num_plots.shape[1]):\n",
    "            threed_pics[i, j] = sess.run(encoder, {x1 : num_plots[i, j].reshape(1, 784)})\n",
    "\n",
    "    return threed_pics"
   ]
  },
  {
   "cell_type": "code",
   "execution_count": 25,
   "metadata": {},
   "outputs": [
    {
     "name": "stdout",
     "output_type": "stream",
     "text": [
      "Tensor(\"Relu_40:0\", shape=(?, 100), dtype=float32)\n",
      "Tensor(\"Relu_41:0\", shape=(?, 50), dtype=float32)\n",
      "Tensor(\"Relu_42:0\", shape=(?, 3), dtype=float32)\n",
      "(10, 15, 3)\n"
     ]
    }
   ],
   "source": [
    "plots = generate_plots(features, 15)\n",
    "tr_features = features[:train_size, :features.shape[1] - 1]\n",
    "tr_classes = features[:train_size, -1]\n",
    "tr_labels = np.array([np.arange(0, 10, 1) == tr_classes[i]\n",
    "            for i in range(tr_classes.shape[0])], dtype = np.float32)\n",
    "\n",
    "sess.run(tf.global_variables_initializer())\n",
    "y1, x1, encoder = autoencoder(entropy, label_shapes, tf.nn.relu,\n",
    "        tr_features, tr_labels, sess, epoch_n, batch_size)\n",
    "\n",
    "threed_plots = encode_plots(plots, encoder, sess)"
   ]
  },
  {
   "cell_type": "code",
   "execution_count": 26,
   "metadata": {},
   "outputs": [],
   "source": [
    "def encoder_perceptron(loss_func, encoder_shapes, layer_shapes, non_linearity,\n",
    "            features, labels, sess, epoch_n, batch_size, mode='UnReg'):\n",
    "\n",
    "    a_encoder, x, encoder = autoencoder(loss_func, encoder_shapes, non_linearity,\n",
    "             features, labels, sess, epoch_n, batch_size)\n",
    "\n",
    "    layer_n = layer_shapes.shape[0] - 1\n",
    "    W = [tf.Variable(tf.truncated_normal([layer_shapes[i], layer_shapes[i + 1]], stddev=0.1))\n",
    "         for i in range(layer_n)]\n",
    "\n",
    "    b = [tf.Variable(tf.zeros(layer_shapes[i + 1])) for i in range(layer_n)]\n",
    "    y_true = tf.placeholder(tf.float32, shape=[None, 10])\n",
    "    sess.run(tf.global_variables_initializer())\n",
    "\n",
    "    y = encoder\n",
    "    for i in range(layer_n - 1):\n",
    "        y = layer(y, W, b, i, non_linearity)\n",
    "\n",
    "    y = tf.matmul(y, W[-1]) + b[-1]\n",
    "    if (mode == 'Reg'):\n",
    "        train_step = tf.train.GradientDescentOptimizer(0.5).minimize(loss_func(x, W, b, y_true))\n",
    "    else:\n",
    "        train_step = tf.train.AdamOptimizer().minimize(loss_func(y, y_true))\n",
    "        sess.run(tf.global_variables_initializer())\n",
    "\n",
    "    for i in range(epoch_n):\n",
    "        for batch in generate_batches(features, labels, batch_size):\n",
    "            train_step.run(feed_dict={x: batch[0], y_true: batch[1]})\n",
    "\n",
    "\n",
    "    return W, y, x, y_true, b\n"
   ]
  },
  {
   "cell_type": "code",
   "execution_count": 27,
   "metadata": {},
   "outputs": [],
   "source": [
    "def perceptron_verify(features, loss_func, encoder_shapes, layer_shapes,\n",
    "            non_linearity, train_size, epoch_n, batch_size, mode='UnReg'):\n",
    "\n",
    "    sess = tf.InteractiveSession()\n",
    "\n",
    "    f_copy = np.array(features)\n",
    "    np.random.shuffle(f_copy)\n",
    "    tr_features = f_copy[:train_size, :features.shape[1] - 1]\n",
    "    tr_classes = f_copy[:train_size, -1]\n",
    "    tr_labels = np.array([np.arange(0, 10, 1) == tr_classes[i]\n",
    "                for i in range(tr_classes.shape[0])], dtype = np.float32)\n",
    "\n",
    "    test_features = f_copy[train_size:, :features.shape[1] - 1]\n",
    "    test_classes = f_copy[train_size:, -1]\n",
    "    test_labels = np.array([np.arange(0, 10, 1) == test_classes[i]\n",
    "                for i in range(test_classes.shape[0])], dtype = np.float32)\n",
    "\n",
    "    W, y, x, y_, b = encoder_perceptron(loss_func, encoder_shapes, layer_shapes, non_linearity,\n",
    "                    tr_features, tr_labels, sess, epoch_n, batch_size, mode)\n",
    "\n",
    "    correct_prediction = tf.equal(tf.argmax(y,1), tf.argmax(y_,1))\n",
    "    accuracy = tf.reduce_mean(tf.cast(correct_prediction, tf.float32))\n",
    "    acc_tr = accuracy.eval(feed_dict={x: tr_features, y_: tr_labels})\n",
    "    acc_test = accuracy.eval(feed_dict={x: test_features, y_: test_labels})\n",
    "    sess.close()\n",
    "\n",
    "    return acc_tr, acc_test\n"
   ]
  },
  {
   "cell_type": "code",
   "execution_count": 28,
   "metadata": {},
   "outputs": [
    {
     "name": "stdout",
     "output_type": "stream",
     "text": [
      "Tensor(\"Sigmoid_2:0\", shape=(?, 400), dtype=float32)\n",
      "Accuracy on train set with Sigmoid: 0.9931633\n",
      "Accuracy on test set with Sigmoid: 0.96380955\n"
     ]
    }
   ],
   "source": [
    "shapes = np.array([400, 200, 10])\n",
    "encoder_shapes = np.array([784, 400, 784])\n",
    "sess = tf.InteractiveSession()\n",
    "epoch_n = 20\n",
    "batch_size = 70\n",
    "train_size = round(features.shape[0] * 0.7)\n",
    "\n",
    "p2_train, p2_test  = perceptron_verify(features, entropy, encoder_shapes, shapes, tf.nn.sigmoid,\n",
    "                train_size, epoch_n, batch_size)\n",
    "print(\"Accuracy on train set with Sigmoid:\", p2_train)\n",
    "print(\"Accuracy on test set with Sigmoid:\", p2_test)"
   ]
  }
 ],
 "metadata": {
  "kernelspec": {
   "display_name": "Python 3",
   "language": "python",
   "name": "python3"
  },
  "language_info": {
   "codemirror_mode": {
    "name": "ipython",
    "version": 3
   },
   "file_extension": ".py",
   "mimetype": "text/x-python",
   "name": "python",
   "nbconvert_exporter": "python",
   "pygments_lexer": "ipython3",
   "version": "3.5.2"
  }
 },
 "nbformat": 4,
 "nbformat_minor": 1
}
